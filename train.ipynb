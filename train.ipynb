{
 "cells": [
  {
   "cell_type": "code",
   "execution_count": 40,
   "metadata": {},
   "outputs": [],
   "source": [
    "import numpy\n",
    "from keras.models import Sequential\n",
    "from keras.layers import Dense\n",
    "from keras.layers import LSTM, Conv2D, MaxPooling2D, TimeDistributed, Conv1D, Reshape, ConvLSTM2D, Conv3D, MaxPooling3D\n",
    "from keras.layers.embeddings import Embedding\n",
    "from keras.preprocessing import sequence\n",
    "from keras.utils import plot_model\n",
    "from keras import regularizers\n",
    "\n",
    "import tensorflow as tf\n",
    "\n",
    "# set the matplotlib backend so figures can be saved in the background\n",
    "import matplotlib\n",
    "matplotlib.use(\"Agg\")\n",
    " \n",
    "# import the necessary packages\n",
    "from keras.preprocessing.image import ImageDataGenerator\n",
    "from keras.layers.pooling import AveragePooling2D\n",
    "from keras.applications import ResNet50\n",
    "from keras.layers.core import Dropout\n",
    "from keras.layers.core import Flatten\n",
    "from keras.layers.core import Dense\n",
    "from keras.layers import Input\n",
    "from keras.models import Model\n",
    "from keras.optimizers import SGD\n",
    "from sklearn.preprocessing import LabelBinarizer\n",
    "from sklearn.model_selection import train_test_split\n",
    "from sklearn.metrics import classification_report\n",
    "from imutils import paths\n",
    "import matplotlib.pyplot as plt\n",
    "import numpy as np\n",
    "import argparse\n",
    "import pickle\n",
    "import cv2\n",
    "import os\n",
    "\n"
   ]
  },
  {
   "cell_type": "code",
   "execution_count": 41,
   "metadata": {},
   "outputs": [
    {
     "name": "stdout",
     "output_type": "stream",
     "text": [
      "[INFO] loading images...\n",
      "(1716, 100, 1500)\n",
      "(1716, 4)\n"
     ]
    }
   ],
   "source": [
    "print(\"[INFO] loading images...\")\n",
    "\n",
    "# imagePaths = list(paths.list_images(args[\"dataset\"]))\n",
    "imagePaths = [\"Capture\", \"Pointing\", \"ZoomIn\", \"ZoomOut\"]\n",
    "data = []\n",
    "labels = []\n",
    "path = \"FinalDataset\"\n",
    "\n",
    "# loop over the image paths\n",
    "for imagePath in imagePaths:\n",
    "\n",
    "\tfolders = [i for i in os.listdir(path + \"/\" + imagePath)]\n",
    "\tfor folder in folders:\n",
    "\t\tphotos = [i for i in os.listdir(path + \"/\" + imagePath + \"/\" + folder)]\n",
    "\t\tarr = np.zeros((100,100))\n",
    "\t\tfor photo in photos:\n",
    "\t\t\t# load the image\n",
    "\t\t\timage = cv2.imread(path + \"/\" + imagePath + \"/\" + folder + \"/\" + photo)\n",
    "\t\t\n",
    "\t\t\t# update the data and labels lists, respectively\n",
    "\t\t\t# arr.append(image[:,:,0])\n",
    "\t\t\t# arr.append(image)\n",
    "\t\t\tarr = np.concatenate((arr, image[:,:,0]), axis=1)\n",
    "\t\t# print(arr[:,100:].shape)\n",
    "\t\tdata.append(arr[:,100:])\n",
    "\t\tlabels.append(imagePath)\n",
    "\n",
    "\n",
    "# convert the data and labels to NumPy arrays\n",
    "data = np.array(data)\n",
    "labels = np.array(labels)\n",
    "\n",
    "# perform one-hot encoding on the labels\n",
    "lb = LabelBinarizer()\n",
    "labels = lb.fit_transform(labels)\n",
    "\n",
    "# lb.get_params(labels)\n",
    "print(data.shape)\n",
    "print(labels.shape)"
   ]
  },
  {
   "cell_type": "code",
   "execution_count": 42,
   "metadata": {},
   "outputs": [
    {
     "name": "stdout",
     "output_type": "stream",
     "text": [
      "['Capture' 'Pointing' 'ZoomIn' 'ZoomOut']\n",
      "[[1 0 0 0]\n",
      " [0 1 0 0]\n",
      " [0 0 1 0]\n",
      " [0 0 0 1]]\n"
     ]
    }
   ],
   "source": [
    "print(lb.classes_)\n",
    "print(lb.transform(lb.classes_))"
   ]
  },
  {
   "cell_type": "code",
   "execution_count": 43,
   "metadata": {},
   "outputs": [
    {
     "name": "stdout",
     "output_type": "stream",
     "text": [
      "(1201, 100, 1500) (1201, 4)\n"
     ]
    }
   ],
   "source": [
    "# partition the data into training and testing splits using 75% of\n",
    "# the data for training and the remaining 25% for testing\n",
    "(trainX, testX, trainY, testY) = train_test_split(data, labels,\n",
    "\ttest_size=0.3, stratify=labels, random_state=42)\n",
    "print(trainX.shape, trainY.shape)"
   ]
  },
  {
   "cell_type": "code",
   "execution_count": 44,
   "metadata": {},
   "outputs": [],
   "source": [
    "trainX = trainX.reshape([len(trainX),1, 100, 1500])\n",
    "testX = testX.reshape([len(testX),1,100, 1500])\n",
    "# print(trainX.shape, trainY.shape)\n",
    "# print(trainX[0][0])\n",
    "# print(trainX[0][0].shape)"
   ]
  },
  {
   "cell_type": "code",
   "execution_count": 51,
   "metadata": {
    "scrolled": false
   },
   "outputs": [
    {
     "name": "stdout",
     "output_type": "stream",
     "text": [
      "Model: \"sequential_27\"\n",
      "_________________________________________________________________\n",
      "Layer (type)                 Output Shape              Param #   \n",
      "=================================================================\n",
      "conv2d_93 (Conv2D)           (None, 32, 97, 1497)      544       \n",
      "_________________________________________________________________\n",
      "max_pooling2d_42 (MaxPooling (None, 10, 32, 1497)      0         \n",
      "_________________________________________________________________\n",
      "conv2d_94 (Conv2D)           (None, 8, 30, 32)         431168    \n",
      "_________________________________________________________________\n",
      "conv2d_95 (Conv2D)           (None, 6, 28, 32)         9248      \n",
      "_________________________________________________________________\n",
      "max_pooling2d_43 (MaxPooling (None, 3, 14, 32)         0         \n",
      "_________________________________________________________________\n",
      "conv2d_96 (Conv2D)           (None, 1, 12, 32)         9248      \n",
      "_________________________________________________________________\n",
      "flatten_6 (Flatten)          (None, 384)               0         \n",
      "_________________________________________________________________\n",
      "dropout_20 (Dropout)         (None, 384)               0         \n",
      "_________________________________________________________________\n",
      "dense_40 (Dense)             (None, 20)                7700      \n",
      "_________________________________________________________________\n",
      "dense_41 (Dense)             (None, 4)                 84        \n",
      "=================================================================\n",
      "Total params: 457,992\n",
      "Trainable params: 457,992\n",
      "Non-trainable params: 0\n",
      "_________________________________________________________________\n"
     ]
    },
    {
     "data": {
      "image/png": "[encoded data removed]",
      "text/plain": [
       "<IPython.core.display.Image object>"
      ]
     },
     "execution_count": 51,
     "metadata": {},
     "output_type": "execute_result"
    }
   ],
   "source": [
    "model = Sequential()\n",
    "# model.add(ConvLSTM2D(filters=40, kernel_size=(3, 3),\n",
    "#                    input_shape=(1, 100, 1500),\n",
    "#                    padding='same', return_sequences=True))\n",
    "model.add(Conv2D(32,kernel_size=(4,4), padding=\"valid\", activation=\"relu\", data_format=\"channels_first\", input_shape = (1,100,1500)))\n",
    "model.add(MaxPooling2D(pool_size = (3, 3)))\n",
    "\n",
    "model.add(Conv2D(32,kernel_size=(3,3), padding=\"valid\", activation=\"relu\"))\n",
    "model.add(Conv2D(32,kernel_size = (3,3), padding=\"valid\", activation=\"relu\",kernel_regularizer = regularizers.l2(0.01)))\n",
    "model.add(MaxPooling2D(pool_size = (2, 2)))\n",
    "\n",
    "\n",
    "model.add(Conv2D(32,kernel_size = (3,3), padding=\"valid\", activation=\"relu\",kernel_regularizer = regularizers.l2(0.01)))\n",
    "model.add(Flatten())\n",
    "# model.add(Reshape((12, 32)))\n",
    "# model.add(LSTM(100))\n",
    "\n",
    "model.add(Dropout(0.5))\n",
    "# model.add(Conv1D(1,kernel_size=10,padding=\"same\",activation='relu'))\n",
    "# model.add(LSTM(100))\n",
    "# model.add(LSTM(50))\n",
    "# model.add(LSTM(10, activation='tanh', kernel_regularizer = regularizers.l2(0.01)))\n",
    "model.add(Dense(20, kernel_regularizer = regularizers.l2(0.1)))\n",
    "\n",
    "model.add(Dense(units = 4, activation = 'softmax'))\n",
    "\n",
    "model.build((100,1500, 1))\n",
    "model.summary()\n",
    "plot_model(model, to_file='model1.png')\n"
   ]
  },
  {
   "cell_type": "code",
   "execution_count": 16,
   "metadata": {},
   "outputs": [
    {
     "name": "stdout",
     "output_type": "stream",
     "text": [
      "Model: \"sequential_4\"\n",
      "_________________________________________________________________\n",
      "Layer (type)                 Output Shape              Param #   \n",
      "=================================================================\n",
      "conv2d_17 (Conv2D)           (None, 32, 100, 1500)     320       \n",
      "_________________________________________________________________\n",
      "conv2d_18 (Conv2D)           (None, 32, 100, 32)       432032    \n",
      "_________________________________________________________________\n",
      "max_pooling2d_5 (MaxPooling2 (None, 16, 50, 32)        0         \n",
      "_________________________________________________________________\n",
      "conv2d_19 (Conv2D)           (None, 16, 50, 64)        18496     \n",
      "_________________________________________________________________\n",
      "conv2d_20 (Conv2D)           (None, 16, 50, 64)        36928     \n",
      "_________________________________________________________________\n",
      "max_pooling2d_6 (MaxPooling2 (None, 8, 25, 64)         0         \n",
      "_________________________________________________________________\n",
      "conv2d_21 (Conv2D)           (None, 8, 25, 128)        73856     \n",
      "_________________________________________________________________\n",
      "conv2d_22 (Conv2D)           (None, 8, 25, 128)        147584    \n",
      "_________________________________________________________________\n",
      "max_pooling2d_7 (MaxPooling2 (None, 8, 25, 128)        0         \n",
      "_________________________________________________________________\n",
      "conv2d_23 (Conv2D)           (None, 8, 25, 256)        295168    \n",
      "_________________________________________________________________\n",
      "conv2d_24 (Conv2D)           (None, 8, 25, 256)        590080    \n",
      "_________________________________________________________________\n",
      "max_pooling2d_8 (MaxPooling2 (None, 8, 25, 256)        0         \n",
      "_________________________________________________________________\n",
      "flatten_4 (Flatten)          (None, 51200)             0         \n",
      "_________________________________________________________________\n",
      "dense_7 (Dense)              (None, 1024)              52429824  \n",
      "_________________________________________________________________\n",
      "dropout_4 (Dropout)          (None, 1024)              0         \n",
      "_________________________________________________________________\n",
      "dense_8 (Dense)              (None, 4)                 4100      \n",
      "=================================================================\n",
      "Total params: 54,028,388\n",
      "Trainable params: 54,028,388\n",
      "Non-trainable params: 0\n",
      "_________________________________________________________________\n"
     ]
    }
   ],
   "source": [
    "# res_conv = ResNet50(include_top=False,\n",
    "#                     weights='imagenet',\n",
    "#                     input_tensor=None,\n",
    "#                     input_shape=(1,100,1500),\n",
    "#                     pooling=None,classes=1000,\n",
    "#                     data_format=\"channels_first\")\n",
    "model = Sequential()\n",
    "# model.add(res_conv)\n",
    "\n",
    "model.add(Conv2D(32, kernel_size=(3,3), padding='same', input_shape=(1,100,1500), activation='relu',data_format=\"channels_first\"))\n",
    "model.add(Conv2D(32, kernel_size=(3,3), padding='same', activation='relu'))\n",
    "model.add(MaxPooling2D(pool_size=(2, 2)))\n",
    "\n",
    "model.add(Conv2D(64, kernel_size=(3,3), padding='same', activation='relu'))\n",
    "model.add(Conv2D(64, kernel_size=(3,3), padding='same', activation='relu'))\n",
    "model.add(MaxPooling2D(pool_size=(2, 2)))\n",
    "\n",
    "model.add(Conv2D(128, kernel_size=(3,3), padding='same', activation='relu'))\n",
    "model.add(Conv2D(128, kernel_size=(3,3), padding='same', activation='relu'))\n",
    "model.add(MaxPooling2D(pool_size=(1, 1)))\n",
    "\n",
    "model.add(Conv2D(256, kernel_size=(3,3), padding='same', activation='relu'))\n",
    "model.add(Conv2D(256, kernel_size=(3,3), padding='same', activation='relu'))\n",
    "model.add(MaxPooling2D(pool_size=(1, 1)))\n",
    "\n",
    "model.add(Flatten())\n",
    "model.add(Dense(1024, activation='relu'))\n",
    "model.add(Dropout(0.5))\n",
    "model.add(Dense(4, activation='softmax'))\n",
    "\n",
    "\n",
    "model.summary()\n",
    "# plot_model(model, to_file='model.png')"
   ]
  },
  {
   "cell_type": "code",
   "execution_count": 46,
   "metadata": {},
   "outputs": [
    {
     "name": "stdout",
     "output_type": "stream",
     "text": [
      "Train on 1201 samples, validate on 515 samples\n",
      "Epoch 1/5\n",
      "1201/1201 [==============================] - 123s 103ms/step - loss: 2.6085 - accuracy: 0.7290 - val_loss: 1.4124 - val_accuracy: 0.7500\n",
      "Epoch 2/5\n",
      "1201/1201 [==============================] - 120s 100ms/step - loss: 1.0256 - accuracy: 0.7483 - val_loss: 0.7808 - val_accuracy: 0.7500\n",
      "Epoch 3/5\n",
      "1201/1201 [==============================] - 113s 94ms/step - loss: 0.7056 - accuracy: 0.7500 - val_loss: 0.6495 - val_accuracy: 0.7500\n",
      "Epoch 4/5\n",
      "1201/1201 [==============================] - 106s 88ms/step - loss: 0.6323 - accuracy: 0.7500 - val_loss: 0.6195 - val_accuracy: 0.7500\n",
      "Epoch 5/5\n",
      "1201/1201 [==============================] - 105s 87ms/step - loss: 0.6096 - accuracy: 0.7500 - val_loss: 0.6092 - val_accuracy: 0.7500\n"
     ]
    },
    {
     "data": {
      "text/plain": [
       "<keras.callbacks.callbacks.History at 0x7f2689f675c0>"
      ]
     },
     "execution_count": 46,
     "metadata": {},
     "output_type": "execute_result"
    }
   ],
   "source": [
    "model.compile(loss='binary_crossentropy', optimizer='adam', metrics=['accuracy'])\n",
    "\n",
    "model.fit(trainX, trainY, validation_data=(testX, testY), epochs=5, batch_size=10, shuffle=True)\n"
   ]
  },
  {
   "cell_type": "code",
   "execution_count": 47,
   "metadata": {},
   "outputs": [
    {
     "name": "stdout",
     "output_type": "stream",
     "text": [
      "Accuracy: 75.00%\n"
     ]
    }
   ],
   "source": [
    "# Final evaluation of the model\n",
    "scores = model.evaluate(testX, testY, verbose=0)\n",
    "print(\"Accuracy: %.2f%%\" % (scores[1]*100))"
   ]
  },
  {
   "cell_type": "code",
   "execution_count": 48,
   "metadata": {},
   "outputs": [
    {
     "name": "stdout",
     "output_type": "stream",
     "text": [
      "Saved model to disk\n"
     ]
    }
   ],
   "source": [
    "# save model and architecture to single file\n",
    "model.save(\"model_LSTM2D.h5\")\n",
    "print(\"Saved model to disk\")"
   ]
  },
  {
   "cell_type": "code",
   "execution_count": null,
   "metadata": {},
   "outputs": [],
   "source": []
  }
 ],
 "metadata": {
  "kernelspec": {
   "display_name": "Python 3",
   "language": "python",
   "name": "python3"
  },
  "language_info": {
   "codemirror_mode": {
    "name": "ipython",
    "version": 3
   },
   "file_extension": ".py",
   "mimetype": "text/x-python",
   "name": "python",
   "nbconvert_exporter": "python",
   "pygments_lexer": "ipython3",
   "version": "3.6.9"
  }
 },
 "nbformat": 4,
 "nbformat_minor": 2
}
