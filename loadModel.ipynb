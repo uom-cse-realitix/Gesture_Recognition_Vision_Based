{
 "cells": [
  {
   "cell_type": "code",
   "execution_count": 1,
   "metadata": {},
   "outputs": [
    {
     "name": "stderr",
     "output_type": "stream",
     "text": [
      "Using TensorFlow backend.\n"
     ]
    }
   ],
   "source": [
    "# load and evaluate a saved model\n",
    "from numpy import loadtxt\n",
    "from keras.models import load_model"
   ]
  },
  {
   "cell_type": "code",
   "execution_count": 2,
   "metadata": {},
   "outputs": [],
   "source": [
    "import cv2\n",
    "import os\n",
    "import numpy as np"
   ]
  },
  {
   "cell_type": "code",
   "execution_count": 3,
   "metadata": {},
   "outputs": [],
   "source": [
    "from sklearn.preprocessing import LabelBinarizer"
   ]
  },
  {
   "cell_type": "code",
   "execution_count": 10,
   "metadata": {},
   "outputs": [
    {
     "name": "stdout",
     "output_type": "stream",
     "text": [
      "Model: \"sequential_24\"\n",
      "_________________________________________________________________\n",
      "Layer (type)                 Output Shape              Param #   \n",
      "=================================================================\n",
      "conv2d_81 (Conv2D)           (None, 32, 97, 1497)      544       \n",
      "_________________________________________________________________\n",
      "max_pooling2d_36 (MaxPooling (None, 10, 32, 1497)      0         \n",
      "_________________________________________________________________\n",
      "conv2d_82 (Conv2D)           (None, 8, 30, 32)         431168    \n",
      "_________________________________________________________________\n",
      "conv2d_83 (Conv2D)           (None, 6, 28, 32)         9248      \n",
      "_________________________________________________________________\n",
      "max_pooling2d_37 (MaxPooling (None, 3, 14, 32)         0         \n",
      "_________________________________________________________________\n",
      "conv2d_84 (Conv2D)           (None, 1, 12, 32)         9248      \n",
      "_________________________________________________________________\n",
      "reshape_5 (Reshape)          (None, 12, 32)            0         \n",
      "_________________________________________________________________\n",
      "lstm_4 (LSTM)                (None, 100)               53200     \n",
      "_________________________________________________________________\n",
      "dropout_17 (Dropout)         (None, 100)               0         \n",
      "_________________________________________________________________\n",
      "dense_34 (Dense)             (None, 20)                2020      \n",
      "_________________________________________________________________\n",
      "dense_35 (Dense)             (None, 4)                 84        \n",
      "=================================================================\n",
      "Total params: 505,512\n",
      "Trainable params: 505,512\n",
      "Non-trainable params: 0\n",
      "_________________________________________________________________\n"
     ]
    }
   ],
   "source": [
    "# load model\n",
    "model = load_model('model_LSTM2D.h5')\n",
    "# summarize model.\n",
    "model.summary()\n"
   ]
  },
  {
   "cell_type": "code",
   "execution_count": 11,
   "metadata": {},
   "outputs": [
    {
     "name": "stdout",
     "output_type": "stream",
     "text": [
      "[INFO] loading images...\n",
      "(8, 100, 1500)\n",
      "(8, 4)\n"
     ]
    }
   ],
   "source": [
    "print(\"[INFO] loading images...\")\n",
    "\n",
    "# imagePaths = list(paths.list_images(args[\"dataset\"]))\n",
    "imagePaths = [\"Capture\", \"Pointing\", \"ZoomIn\", \"ZoomOut\"]\n",
    "data = []\n",
    "labels = []\n",
    "path = \"Testing/\"\n",
    "\n",
    "\n",
    "# names = [i for i in os.listdir(path)]\n",
    "names = [\"Test3\"]\n",
    "for name in names:\n",
    "    gestures = [i for i in os.listdir(path + name)]\n",
    "#     gestures = [\"ZoomIn\"]\n",
    "    for gesture  in gestures:\n",
    "        folders = [i for i in os.listdir(path + name + \"/\" + gesture)]\n",
    "        for folder in folders:\n",
    "            photos = [i for i in os.listdir(path + name + \"/\" + gesture + \"/\" + folder)]\n",
    "            arr = np.zeros((100,100))\n",
    "            for photo in photos:\n",
    "                image = cv2.imread(path + name + \"/\" + gesture + \"/\" + folder + \"/\" + photo)\n",
    "                arr = np.concatenate((arr, image[:,:,0]), axis=1)\n",
    "            data.append(arr[:,100:])\n",
    "            labels.append(gesture)\n",
    "            \n",
    "            \n",
    "# convert the data and labels to NumPy arrays\n",
    "data = np.array(data)\n",
    "labels = np.array(labels)\n",
    "# print(labels)\n",
    "\n",
    "# perform one-hot encoding on the labels\n",
    "lb = LabelBinarizer()\n",
    "labels = lb.fit_transform(labels)\n",
    "print(data.shape)\n",
    "print(labels.shape)\n"
   ]
  },
  {
   "cell_type": "code",
   "execution_count": 12,
   "metadata": {},
   "outputs": [
    {
     "name": "stdout",
     "output_type": "stream",
     "text": [
      "(8, 1, 100, 1500)\n",
      "(8, 4)\n",
      "['Capture' 'Pointing' 'ZoomIn' 'ZoomOut']\n",
      "[[1 0 0 0]\n",
      " [0 1 0 0]\n",
      " [0 0 1 0]\n",
      " [0 0 0 1]]\n"
     ]
    }
   ],
   "source": [
    "data = data.reshape([len(data),1,100, 1500])\n",
    "print(data.shape)\n",
    "print(labels.shape)\n",
    "print(lb.classes_)\n",
    "print(lb.transform(lb.classes_))"
   ]
  },
  {
   "cell_type": "code",
   "execution_count": 14,
   "metadata": {},
   "outputs": [
    {
     "name": "stdout",
     "output_type": "stream",
     "text": [
      "accuracy: 75.00%\n"
     ]
    }
   ],
   "source": [
    "# evaluate the model\n",
    "score = model.evaluate(data, labels, verbose=0)\n",
    "print(\"%s: %.2f%%\" % (model.metrics_names[1], score[1]*100))"
   ]
  },
  {
   "cell_type": "code",
   "execution_count": null,
   "metadata": {},
   "outputs": [],
   "source": []
  }
 ],
 "metadata": {
  "kernelspec": {
   "display_name": "Python 3",
   "language": "python",
   "name": "python3"
  },
  "language_info": {
   "codemirror_mode": {
    "name": "ipython",
    "version": 3
   },
   "file_extension": ".py",
   "mimetype": "text/x-python",
   "name": "python",
   "nbconvert_exporter": "python",
   "pygments_lexer": "ipython3",
   "version": "3.6.9"
  }
 },
 "nbformat": 4,
 "nbformat_minor": 2
}
